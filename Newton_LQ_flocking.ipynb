{
  "cells": [
    {
      "cell_type": "markdown",
      "metadata": {
        "id": "view-in-github",
        "colab_type": "text"
      },
      "source": [
        "<a href=\"https://colab.research.google.com/github/RenjieCui/Master_Thesis/blob/main/Newton_LQ_flocking.ipynb\" target=\"_parent\"><img src=\"https://colab.research.google.com/assets/colab-badge.svg\" alt=\"Open In Colab\"/></a>"
      ]
    },
    {
      "cell_type": "markdown",
      "id": "three-broadway",
      "metadata": {
        "id": "three-broadway"
      },
      "source": [
        "# Newton Iterations on the whole forward-backward system"
      ]
    },
    {
      "cell_type": "code",
      "execution_count": null,
      "id": "labeled-experiment",
      "metadata": {
        "id": "labeled-experiment"
      },
      "outputs": [],
      "source": [
        "import numpy as np\n",
        "from scipy.integrate import odeint\n",
        "from scipy.interpolate import interp1d\n",
        "import matplotlib.pyplot as plt\n",
        "import scipy.sparse as sparse\n",
        "import scipy.sparse.linalg\n",
        "from datetime import datetime"
      ]
    },
    {
      "cell_type": "markdown",
      "id": "covered-mailing",
      "metadata": {
        "id": "covered-mailing"
      },
      "source": [
        "**Setup:** In this MFC example, we take:\n",
        "  - drift: $$b(x, m, a) \t= Ax + \\bar{A} m + Ba$$\n",
        "  - running cost:\n",
        "    $$f(x, m, a)\t= \\frac{1}{2} \\left[ Q x^2 + \\bar{Q} \\left(x - S m \\right)^2 + R a^2 \\right]$$\n",
        "  - terminal cost:\n",
        "    $$g(x, m) \t= \\frac{1}{2} \\left[ Q_T x^2 + \\bar{Q}_T \\left(x - S_T m \\right)^2 \\right]$$"
      ]
    },
    {
      "cell_type": "code",
      "execution_count": null,
      "id": "alpha-macro",
      "metadata": {
        "id": "alpha-macro"
      },
      "outputs": [],
      "source": [
        "# ================================================== #\n",
        "# PARAMETERS\n",
        "# ================================================== #\n",
        "# Running cost\n",
        "Q =     0\n",
        "R =     1.0 \n",
        "Rinv =  1.0/R \n",
        "S =     1.0\n",
        "kappa = 1.0\n",
        "Qbar =  kappa**2\n",
        "# Terminal cost\n",
        "QT =    0\n",
        "ST =    0\n",
        "QbarT = 0\n",
        "# Dynamics\n",
        "A =     0\n",
        "Abar =  0#\n",
        "B =     1.0\n",
        "sigma = 1.0\n",
        "a =     0.5*sigma**2\n",
        "\n",
        "xbar0 = 1.0 # initial mean\n",
        "sig0 = 0.2 # initial standard deviation\n",
        "x2bar0 = sig0**2 + xbar0**2 # second moment (assuming Gaussian)\n",
        "\n",
        "# Time\n",
        "T =     10.0\n",
        "Nt =    10000 # number of points\n",
        "Dt =    T/(Nt-1)\n",
        "t_grid = np.linspace(0,T,Nt,endpoint=True) # grid on [0,T]\n",
        "# Algorithm parameters\n",
        "epsilon = 1.e-10"
      ]
    },
    {
      "cell_type": "code",
      "execution_count": null,
      "id": "comparative-grass",
      "metadata": {
        "id": "comparative-grass"
      },
      "outputs": [],
      "source": [
        "# ================================================== #\n",
        "# USEFUL FUNCTIONS\n",
        "# ================================================== #\n",
        "def array_from_fct(f):\n",
        "  np.array([f(t) for t in t_grid])\n",
        "\n",
        "def fct_from_array(arr):\n",
        "  return lambda t : arr[(np.abs(t_grid - t)).argmin()]"
      ]
    },
    {
      "cell_type": "code",
      "execution_count": null,
      "id": "accepted-minimum",
      "metadata": {
        "id": "accepted-minimum"
      },
      "outputs": [],
      "source": [
        "# ODE FOR 2nd ORDER COEFFICIENT P\n",
        "def rate_ODE_P(P_t, t):\n",
        "  dP_dt = -( (P_t*A+A*P_t) - P_t**2 * B**2 * Rinv + Q + Qbar )\n",
        "  return dP_dt\n",
        "\n",
        "def rate_ODE_P_reverse(P_s, t): \n",
        "  # here s plays the role of T-t: need to apply functions control and X at point t = (T-s)\n",
        "  s = T-t\n",
        "  dP_dt = rate_ODE_P(P_s, t)\n",
        "  return -dP_dt\n",
        "\n",
        "def get_P_vec():\n",
        "  PT = QT + QbarT\n",
        "  # reverse time for solution, treat YT as initial condition, use -rate*dt\n",
        "  s_grid = np.flip(T-t_grid) # interpreted as reversed time\n",
        "  # ues ODE solver forward in time\n",
        "  PT0 = odeint(rate_ODE_P_reverse, PT, s_grid)\n",
        "  P0T = np.flip(PT0, axis=0) # return P from 0 to T\n",
        "  return np.reshape(P0T, Nt)"
      ]
    },
    {
      "cell_type": "code",
      "execution_count": null,
      "id": "still-external",
      "metadata": {
        "id": "still-external"
      },
      "outputs": [],
      "source": [
        "# ================================================== #\n",
        "# NEWTON ITERATIONS ON THE WHOLE FORWARD-BACKWARD SYSTEM\n",
        "# ================================================== #\n",
        "\n",
        "def F_op(P, X):\n",
        "    z = X[:Nt]\n",
        "    r = X[Nt:]\n",
        "    F = np.zeros(2*Nt)\n",
        "    # Z PART\n",
        "    F[0] = z[0] - xbar0\n",
        "    for n in range(1,Nt):\n",
        "        F[n] = (z[n]-z[n-1])/Dt - ( (A+Abar-B**2*Rinv*P[n-1])*z[n] - B**2*Rinv*r[n-1] ) \n",
        "    # R PART\n",
        "    for n in range(0, Nt-1):\n",
        "        F[Nt+n] = - (r[n+1]-r[n])/Dt  - ((A - P[n]*B**2*Rinv)*r[n]+(P[n]*Abar - Qbar*S)*z[n+1])\n",
        "        #F[Nt+n] = - (r[n+1]-r[n])/Dt - ( (A+Abar - P[n]*B**2*Rinv)*r[n] + (2*P[n]*Abar - 2*Qbar*S + Qbar*S**2)*z[n+1] )\n",
        "    #F[Nt+Nt-1] = r[Nt-1] - (- 2*QbarT*ST + QbarT*ST**2 ) * z[Nt-1]\n",
        "    F[Nt+Nt-1] = r[Nt-1] - (- QbarT*ST) * z[Nt-1]\n",
        "    return F\n",
        "\n",
        "def DF_sparsemat(P):\n",
        "  # DIAGONAL\n",
        "    MD = np.zeros(2*Nt)\n",
        "    row_start_MD = 0\n",
        "    col_start_MD = 0\n",
        "    MD[0] = 1\n",
        "    for n in range(1,Nt):\n",
        "        MD[n] = 1.0/Dt - (A+Abar-B**2*Rinv*P[n-1])\n",
        "    for n in range(0,Nt-1):\n",
        "        MD[Nt+n] = 1.0/Dt - (A-P[n]*B**2*Rinv)\n",
        "        #MD[Nt+n] = 1.0/Dt - (A+Abar-P[n]*B**2*Rinv)\n",
        "    MD[2*Nt-1] = 1\n",
        "    #-----------------------------------------------------------\n",
        "    # BELOW diagonal: Lower\n",
        "    ML = np.zeros(2*Nt)\n",
        "    row_start_ML = 1\n",
        "    col_start_ML = 0\n",
        "    for n in range(0,Nt-1):\n",
        "        ML[n] = -1.0/Dt\n",
        "    # ABOVE diagonal: Upper\n",
        "    MU = np.zeros(2*Nt)\n",
        "    row_start_MU = 0\n",
        "    col_start_MU = 1\n",
        "    for n in range(Nt,2*Nt-1):\n",
        "        MU[n] = -1.0/Dt\n",
        "    #----------------------------------------------------------\n",
        "    # DERIVATIVE OF F_z WRT r\n",
        "    M_DrFz = np.zeros(2*Nt)\n",
        "    row_start_M_DrFz = 1\n",
        "    col_start_M_DrFz = Nt\n",
        "    for n in range(0,Nt-1): #Nt-1 original code\n",
        "        M_DrFz[n] = B**2 * Rinv\n",
        "    #---------------------------------------------------------\n",
        "    # DERIVATIVE OF F_r WRT z\n",
        "    M_DzFr = np.zeros(2*Nt)\n",
        "    row_start_M_DzFr = Nt\n",
        "    col_start_M_DzFr = 1\n",
        "    for n in range(0,Nt-1): #Nt-1 original code\n",
        "        M_DzFr[n] = - (P[n]*Abar - Qbar*S)\n",
        "        #M_DzFr[n] = - (2*P[n]*Abar - 2*Qbar*S + Qbar*S**2)\n",
        "    #---------------------------------------------------------\n",
        "    # DERIVATIVE OF F_r(terminal condition) WRT z\n",
        "    M_DzFr_term = np.zeros(2*Nt)\n",
        "    row_start_M_DzFr_term = 2*Nt-1\n",
        "    col_start_M_DzFr_term = Nt-1\n",
        "    M_DzFr_term[0] = -(- QbarT*ST )\n",
        "    #M_DzFr_term[0] = -(- 2*QbarT*ST + QbarT*ST**2 )\n",
        "    #==========================================================\n",
        "    # CONSTRUCT the matrix\n",
        "    # for spdiags we need to shift the vectors\n",
        "    MD = np.roll(MD,col_start_MD)\n",
        "    MU = np.roll(MU,col_start_MU)\n",
        "    ML = np.roll(ML,col_start_ML)\n",
        "    M_DrFz = np.roll(M_DrFz,col_start_M_DrFz)\n",
        "    M_DzFr = np.roll(M_DzFr,col_start_M_DzFr)\n",
        "    M_DzFr_term = np.roll(M_DzFr_term,col_start_M_DzFr_term)\n",
        "    MDn = sparse.spdiags([MD, ML, MU, M_DrFz, M_DzFr, M_DzFr_term],\\\n",
        "                       [col_start_MD-row_start_MD, col_start_ML-row_start_ML, col_start_MU-row_start_MU, col_start_M_DrFz-row_start_M_DrFz, col_start_M_DzFr-row_start_M_DzFr, col_start_M_DzFr_term-row_start_M_DzFr_term],\\\n",
        "                       2*Nt, 2*Nt) # SPARSE matrix\n",
        "    MO = MDn.tocsr() # matrix of the operator (lhs)\n",
        "    return MO\n",
        "\n",
        "def step_Newton(P, X_old):\n",
        "  b = -F_op(P, X_old)\n",
        "  MO = DF_sparsemat(P)\n",
        "  X_tmp0 = np.asarray(np.mat( sparse.linalg.spsolve( MO, b ) ))\n",
        "  X_tmp = X_tmp0[0]\n",
        "  return X_tmp + X_old\n",
        "\n",
        "def solver_Newton_zr(P, tol=1.e-8):\n",
        "  z_old = np.zeros(Nt)\n",
        "  r_old = np.zeros(Nt)\n",
        "  X_old = np.concatenate((z_old, r_old))\n",
        "  i = 1\n",
        "  diff_z = []\n",
        "  diff_r = []\n",
        "  printstep = 1\n",
        "  while(True):\n",
        "    X_new = step_Newton(P, X_old)\n",
        "    z_new = X_new[:Nt]\n",
        "    r_new = X_new[Nt:]\n",
        "    diff_z.append(np.linalg.norm(z_old-z_new)*np.sqrt(Dt))\n",
        "    diff_r.append(np.linalg.norm(r_old-r_new)*np.sqrt(Dt))\n",
        "    if (i % printstep == 0):\n",
        "      print(\"\\nNewton : iter = \", i)\n",
        "      fig, axes = plt.subplots(nrows=1, ncols=2, figsize=(12, 3))\n",
        "      iter_grid = np.linspace(1, len(diff_z), len(diff_z))\n",
        "      print(\"diff_z = {}, \\tdiff_r = {}\".format(diff_z[-1], diff_r[-1]))\n",
        "      # Plots\n",
        "      axes[0].plot(iter_grid, diff_z, label=\"diff z\")\n",
        "      axes[0].plot(iter_grid, diff_r, label=\"diff r\")\n",
        "      axes[0].semilogy()\n",
        "      axes[0].legend()\n",
        "      axes[0].set_xlabel(\"iteration\")\n",
        "      axes[1].plot(t_grid, z_new, label=\"$z$\")\n",
        "      axes[1].plot(t_grid, r_new, label=\"$r$\")\n",
        "      axes[1].legend()\n",
        "      axes[1].set_xlabel(\"time\")\n",
        "      fig.tight_layout()\n",
        "      plt.show()\n",
        "      if( diff_z[-1] < tol and diff_r[-1] < tol):\n",
        "        break\n",
        "    X_old = X_new.copy()\n",
        "    z_old = X_old[:Nt]\n",
        "    r_old = X_old[Nt:]\n",
        "    i += 1\n",
        "  return z_new, r_new, diff_z, diff_r\n"
      ]
    },
    {
      "cell_type": "code",
      "execution_count": null,
      "id": "eligible-casino",
      "metadata": {
        "id": "eligible-casino"
      },
      "outputs": [],
      "source": [
        "# 0th ORDER COEFFICIENT s\n",
        "def get_s_vec(z_fct, P_fct, r_fct):\n",
        "    \n",
        "    arrt = np.zeros(Nt)\n",
        "    s = np.zeros(Nt)\n",
        "    arrt[Nt-1] = 0.5 * z_fct(Dt*Nt)**2 * ST**2 * QbarT\n",
        "    s[Nt-1] = arrt[Nt-1]\n",
        "    #for it in range(Nt-1, -1, -1):\n",
        "        #t = Dt*it\n",
        "        #arrt[it] = a*P_fct(t) - 0.5*r_fct(t)**2*B**2*Rinv + r_fct(t)*Abar*z_fct(t) \\\n",
        "        #            + 0.5*z_fct(t)*S**2 * Qbar * z_fct(t)\n",
        "        #arrt[it] *= Dt\n",
        "        #s = np.cumsum(arrt[it:])\n",
        "    for it in range(Nt-2, -1, -1):\n",
        "        t = Dt*it\n",
        "        arrt[it] = a*P_fct(t) - 0.5*r_fct(t)**2*B**2*Rinv + r_fct(t)*Abar*z_fct(t) \\\n",
        "                    + 0.5*z_fct(t)*S**2 * Qbar * z_fct(t)\n",
        "        arrt[it] *= Dt\n",
        "        s[it] = arrt[it] + s[it+1]\n",
        "    return s"
      ]
    },
    {
      "cell_type": "code",
      "execution_count": null,
      "id": "suitable-clone",
      "metadata": {
        "id": "suitable-clone"
      },
      "outputs": [],
      "source": [
        "def solver_Newton(tol=1.e-8):\n",
        "  P = get_P_vec()\n",
        "  z, r, diff_z, diff_r = solver_Newton_zr(P, tol)\n",
        "  s = get_s_vec(fct_from_array(z), fct_from_array(P), fct_from_array(r))\n",
        "  return z, P, r, s, diff_z, diff_r"
      ]
    },
    {
      "cell_type": "code",
      "execution_count": null,
      "id": "selected-capitol",
      "metadata": {
        "id": "selected-capitol"
      },
      "outputs": [],
      "source": [
        "z, P, r, s, diff_z, diff_r = solver_Newton(tol=1.e-8)"
      ]
    },
    {
      "cell_type": "code",
      "execution_count": null,
      "id": "radical-incentive",
      "metadata": {
        "id": "radical-incentive"
      },
      "outputs": [],
      "source": [
        "plt.plot(t_grid, z, label=\"$z$\")\n",
        "plt.plot(t_grid, P, label=\"$P$\")\n",
        "plt.plot(t_grid, r, label=\"$r$\")\n",
        "plt.plot(t_grid, s, label=\"$s$\")\n",
        "plt.legend()\n",
        "plt.xlabel(\"time\")\n",
        "now = datetime.now()\n",
        "filename = f\"Newton-ODE-barx0={xbar0}-sig0={sig0}\"+now.strftime(\"%Y-%m-%d-%H:%M:%S\")+\".png\"\n",
        "plt.savefig(filename, dpi=300)\n",
        "plt.show()"
      ]
    },
    {
      "cell_type": "code",
      "execution_count": null,
      "id": "distributed-family",
      "metadata": {
        "id": "distributed-family"
      },
      "outputs": [],
      "source": [
        "iter_grid = np.linspace(1, len(diff_z), len(diff_z))\n",
        "plt.plot(iter_grid, diff_z, label=\"diff z\")\n",
        "plt.plot(iter_grid, diff_r, label=\"diff r\")\n",
        "plt.semilogy()\n",
        "plt.legend()\n",
        "plt.xlabel(\"iteration\")\n",
        "now = datetime.now()\n",
        "filename = f\"Newton-difference-barx0={xbar0}-sig0={sig0}\"+now.strftime(\"%Y-%m-%d-%H:%M:%S\")+\".png\"\n",
        "plt.savefig(filename, dpi=300)\n",
        "plt.show()"
      ]
    },
    {
      "cell_type": "code",
      "execution_count": null,
      "id": "southwest-rebound",
      "metadata": {
        "id": "southwest-rebound"
      },
      "outputs": [],
      "source": [
        "def get_cost(z, P, r, s):\n",
        "  u0m0 = 0.5*P[0]*x2bar0 + r[0]*xbar0 + s[0]\n",
        "  # correction terms for MFC: u is not the value function!\n",
        "  corr_T = (1-ST)*QbarT*ST*z[Nt-1]**2\n",
        "  corr_int = - np.sum( (P*z + r)*Abar*z - (1-S)*Qbar*S*z**2 )*Dt\n",
        "  return u0m0 + corr_T + corr_int\n",
        "# Evaluation of the total cost\n",
        "print(\"total cost = \", get_cost(z, P, r, s))\n",
        "print(\"P[0] = {}, \\t r[0] = {}, \\t s[0] = {}\".format(P[0], r[0], s[0]))"
      ]
    },
    {
      "cell_type": "code",
      "execution_count": null,
      "id": "hairy-drain",
      "metadata": {
        "id": "hairy-drain"
      },
      "outputs": [],
      "source": [
        "from numpy import asarray\n",
        "from numpy import savetxt\n",
        "\n",
        "data = asarray([get_cost(z, P, r, s), P[0], r[0], s[0]])\n",
        "filename = f\"Newton-difference-barx0={xbar0}-sig0={sig0}.csv\"\n",
        "savetxt(filename, data, delimiter=',')"
      ]
    },
    {
      "cell_type": "code",
      "execution_count": null,
      "id": "environmental-november",
      "metadata": {
        "id": "environmental-november"
      },
      "outputs": [],
      "source": []
    }
  ],
  "metadata": {
    "kernelspec": {
      "display_name": "Python 3",
      "language": "python",
      "name": "python3"
    },
    "language_info": {
      "codemirror_mode": {
        "name": "ipython",
        "version": 3
      },
      "file_extension": ".py",
      "mimetype": "text/x-python",
      "name": "python",
      "nbconvert_exporter": "python",
      "pygments_lexer": "ipython3",
      "version": "3.8.5"
    },
    "colab": {
      "provenance": [],
      "include_colab_link": true
    }
  },
  "nbformat": 4,
  "nbformat_minor": 5
}