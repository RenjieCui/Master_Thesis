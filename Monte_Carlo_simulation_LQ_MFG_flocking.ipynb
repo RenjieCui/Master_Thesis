{
  "cells": [
    {
      "cell_type": "markdown",
      "metadata": {
        "id": "view-in-github",
        "colab_type": "text"
      },
      "source": [
        "<a href=\"https://colab.research.google.com/github/RenjieCui/Master_Thesis/blob/main/Monte_Carlo_simulation_LQ_MFG_flocking.ipynb\" target=\"_parent\"><img src=\"https://colab.research.google.com/assets/colab-badge.svg\" alt=\"Open In Colab\"/></a>"
      ]
    },
    {
      "cell_type": "markdown",
      "id": "nasty-memorial",
      "metadata": {
        "id": "nasty-memorial"
      },
      "source": [
        "# Monte Carlo Simulation of the flocking model in the linear quadratic version"
      ]
    },
    {
      "cell_type": "markdown",
      "id": "bearing-street",
      "metadata": {
        "id": "bearing-street"
      },
      "source": [
        "References: \n",
        "\n",
        "    - For intergration in Python, we use the package: \n",
        "    https://docs.scipy.org/doc/scipy/tutorial/integrate.html\n",
        "    https://docs.scipy.org/doc/scipy/reference/generated/scipy.integrate.quad.html\n",
        "    \n",
        "    - For Monte Carlo Simulation of Brownian motion: \n",
        "    https://quantpy.com.au/stochastic-calculus/simulating-geometric-brownian-motion-gbm-in-python/\n",
        "    \n",
        "    - For 3D plotting, we use the package: \n",
        "    https://gist.github.com/WetHat/1d6cd0f7309535311a539b42cccca89c"
      ]
    },
    {
      "cell_type": "code",
      "execution_count": null,
      "id": "cardiac-satisfaction",
      "metadata": {
        "id": "cardiac-satisfaction"
      },
      "outputs": [],
      "source": [
        "import numpy as np\n",
        "import scipy.integrate as integrate\n",
        "import matplotlib.pyplot as plt\n",
        "from matplotlib.patches import FancyArrowPatch\n",
        "from scipy.sparse import diags\n",
        "import matplotlib.colors as colors\n",
        "import matplotlib.cm as cmx\n",
        "from mpl_toolkits.mplot3d.proj3d import proj_transform\n",
        "from mpl_toolkits.mplot3d import Axes3D\n",
        "from datetime import datetime"
      ]
    },
    {
      "cell_type": "code",
      "execution_count": null,
      "id": "featured-knitting",
      "metadata": {
        "id": "featured-knitting"
      },
      "outputs": [],
      "source": [
        "class Arrow3D(FancyArrowPatch):\n",
        "\n",
        "    def __init__(self, x, y, z, dx, dy, dz, *args, **kwargs):\n",
        "        super().__init__((0, 0), (0, 0), *args, **kwargs)\n",
        "        self._xyz = (x, y, z)\n",
        "        self._dxdydz = (dx, dy, dz)\n",
        "\n",
        "    def draw(self, renderer):\n",
        "        x1, y1, z1 = self._xyz\n",
        "        dx, dy, dz = self._dxdydz\n",
        "        x2, y2, z2 = (x1 + dx, y1 + dy, z1 + dz)\n",
        "\n",
        "        xs, ys, zs = proj_transform((x1, x2), (y1, y2), (z1, z2), self.axes.M)\n",
        "        self.set_positions((xs[0], ys[0]), (xs[1], ys[1]))\n",
        "        super().draw(renderer)\n",
        "        \n",
        "    def do_3d_projection(self, renderer=None):\n",
        "        x1, y1, z1 = self._xyz\n",
        "        dx, dy, dz = self._dxdydz\n",
        "        x2, y2, z2 = (x1 + dx, y1 + dy, z1 + dz)\n",
        "\n",
        "        xs, ys, zs = proj_transform((x1, x2), (y1, y2), (z1, z2), self.axes.M)\n",
        "        self.set_positions((xs[0], ys[0]), (xs[1], ys[1]))\n",
        "\n",
        "        return np.min(zs) "
      ]
    },
    {
      "cell_type": "code",
      "execution_count": null,
      "id": "liable-season",
      "metadata": {
        "id": "liable-season"
      },
      "outputs": [],
      "source": [
        "def _arrow3D(ax, x, y, z, dx, dy, dz, *args, **kwargs):\n",
        "    '''Add an 3d arrow to an `Axes3D` instance.'''\n",
        "\n",
        "    arrow = Arrow3D(x, y, z, dx, dy, dz, *args, **kwargs)\n",
        "    ax.add_artist(arrow)\n",
        "\n",
        "\n",
        "setattr(Axes3D, 'arrow3D', _arrow3D)"
      ]
    },
    {
      "cell_type": "markdown",
      "id": "activated-example",
      "metadata": {
        "id": "activated-example"
      },
      "source": [
        "# Compute for any value at time $t$"
      ]
    },
    {
      "cell_type": "markdown",
      "id": "formal-trinidad",
      "metadata": {
        "id": "formal-trinidad"
      },
      "source": [
        "Parameters: \n",
        "1. Native to the flocking model: \n",
        "$$\\kappa, \\quad \\sigma, \\quad T, \\quad d, \\quad \\bar{\\mu}_0, \\quad v_0$$\n",
        "2. For simulation purpose: \n",
        "$$ M \\enspace \\text{Number of simulations}, \\quad n \\enspace \\text{Number of time steps}$$"
      ]
    },
    {
      "cell_type": "code",
      "execution_count": null,
      "id": "painful-guinea",
      "metadata": {
        "id": "painful-guinea"
      },
      "outputs": [],
      "source": [
        "#parameters in the flocking model\n",
        "kappa = 1\n",
        "sigma = 1\n",
        "#time horizon\n",
        "T = 10\n",
        "#number of time steps \n",
        "n = 1000\n",
        "#dimension\n",
        "d = 3\n",
        "#initial mean position\n",
        "barmu0 = np.zeros(d)\n",
        "#initial velocities \n",
        "v0 = np.zeros(d)\n",
        "#number of simulation\n",
        "M = 50"
      ]
    },
    {
      "cell_type": "markdown",
      "id": "defined-power",
      "metadata": {
        "id": "defined-power"
      },
      "source": [
        "Functions to define:\n",
        "1. eta(t): $$\\eta_t = \\kappa  \\frac{e^{2\\kappa(T-t)} -1}{e^{2\\kappa(T-t)} +1}, \\enspace \\forall t \\in [0,T]$$\n",
        "2. integrate_eta(s,t): $$\\text{The integral of} \\enspace \\eta(\\cdot) \\enspace \\text{from time s to time t}: \\int_s^t \\eta_u du $$\n",
        "3. chi(dim,u): $$\\chi_t^i = -\\kappa^2 \\bar{\\mu}_0^i \\int_t^T e^{\\int_s^t \\eta_u du} \\cdot ds$$\n",
        "or alternatively, as defined below, with a slight modification of notations: \n",
        "$$\\chi_u^i = -\\kappa^2 \\bar{\\mu}_0^i \\int_u^T e^{\\int_s^u \\eta_t dt} \\cdot ds$$"
      ]
    },
    {
      "cell_type": "code",
      "execution_count": null,
      "id": "organizational-peter",
      "metadata": {
        "id": "organizational-peter"
      },
      "outputs": [],
      "source": [
        "def eta(t):\n",
        "    e = np.exp(1)\n",
        "    return kappa * (e** (2*kappa*(T-t)) -1)/(e** (2*kappa*(T-t)) +1)\n",
        "\n",
        "def integrate_eta(s,t):\n",
        "    return integrate.quad(eta,s,t)[0]\n",
        "\n",
        "def chi(dim, u):\n",
        "    integrand = lambda s: np.exp(integrate_eta(s,u))\n",
        "    dbint = integrate.quad(integrand,u,T)\n",
        "    return -kappa**2 * barmu0[dim] * dbint[0]"
      ]
    },
    {
      "cell_type": "markdown",
      "id": "amateur-reputation",
      "metadata": {
        "id": "amateur-reputation"
      },
      "source": [
        "The velocity of the representative bird can be explicitly written down as: \n",
        "$$\\forall t \\in (0,T], \\enspace X_t = \\underbrace{e^{-\\int_0^t \\eta_u du} v_0}_\\text{part 1}  \\underbrace{- \\int_0^t e^{-\\int_s^t \\eta_u du} \\chi_s ds}_\\text{part 2} + \\underbrace{\\sigma \\int_0^t e ^{-\\int_s^t \\eta_u du}dW_s}_\\text{part 3}, \\quad X_0 = v_0 \\in \\mathbb{R}^d $$\n",
        "where $W=(W_s)_{s\\in [0,T]}$ is a $d$-dimensional Brownian motion. "
      ]
    },
    {
      "cell_type": "markdown",
      "id": "aquatic-antibody",
      "metadata": {
        "id": "aquatic-antibody"
      },
      "source": [
        "Part 1: \n",
        "    $$e^{-\\int_0^t \\eta_u du} \\cdot v_0 \\in \\mathbb{R}^d$$"
      ]
    },
    {
      "cell_type": "code",
      "execution_count": null,
      "id": "persistent-mayor",
      "metadata": {
        "id": "persistent-mayor"
      },
      "outputs": [],
      "source": [
        "def part1(t):\n",
        "    return np.exp(integrate_eta(t,0)) * v0.reshape((1,d))"
      ]
    },
    {
      "cell_type": "markdown",
      "id": "intelligent-twist",
      "metadata": {
        "id": "intelligent-twist"
      },
      "source": [
        "Part 2: \n",
        "    $$- \\int_0^t e^{-\\int_s^t \\eta_u du} \\chi_s ds = \\left[\\underbrace{- \\int_0^t e^{-\\int_s^t \\eta_u du} \\chi^i_s ds}_{\\in \\mathbb{R}}\\right]_{i=1,\\cdots,d} \\enspace \\in \\mathbb{R}^d$$\n",
        "alternatively, as defined below, simply a double switch of sign and integration order, \n",
        "$$- \\int_0^t e^{\\int_t^s \\eta_u du} \\chi_s ds = \\left[\\underbrace{- \\int_0^t e^{\\int_t^s \\eta_u du} \\chi^i_s ds}_{\\in \\mathbb{R}}\\right]_{i=1,\\cdots,d} \\enspace \\in \\mathbb{R}^d$$"
      ]
    },
    {
      "cell_type": "code",
      "execution_count": null,
      "id": "constant-programmer",
      "metadata": {
        "id": "constant-programmer"
      },
      "outputs": [],
      "source": [
        "def part2_dim(dim, t):\n",
        "    integrand = lambda s: np.exp(integrate_eta(t,s))* chi(dim,s) \n",
        "    dbint = integrate.quad(integrand, 0, t)\n",
        "    return -dbint[0]\n",
        "def part2(t):\n",
        "    vec = np.zeros(d)\n",
        "    for i in range(d):\n",
        "        vec[i] = part2_dim(i,t)\n",
        "    return vec.reshape((1,d))"
      ]
    },
    {
      "cell_type": "markdown",
      "id": "excellent-implementation",
      "metadata": {
        "id": "excellent-implementation"
      },
      "source": [
        "Part 3: \n",
        "    $$\\sigma \\int_0^t e ^{-\\int_s^t \\eta_u du}dW_s, $$\n",
        "again alternatively, with a double switch of sign and integration order, in the defined function below, we use:\n",
        "$$\\sigma \\int_0^t e ^{\\int_t^s \\eta_u du}dW_s, $$\n",
        "where $s$ is truncated to uniform grid of $n$ steps. \n",
        "    \n",
        "One simulation: Firstly, we simulate the $d$-dimensional Brownian motion in $n$ timesteps. Then, we add the increments to the Brownian motion's path. \n",
        "\n",
        "We do the aforementioned simulation for $M$ times, and take average at time $t$."
      ]
    },
    {
      "cell_type": "markdown",
      "id": "superb-sauce",
      "metadata": {
        "id": "superb-sauce"
      },
      "source": [
        "Compute part 3 for a time $t \\in [0,T]$:"
      ]
    },
    {
      "cell_type": "code",
      "execution_count": null,
      "id": "logical-phoenix",
      "metadata": {
        "id": "logical-phoenix"
      },
      "outputs": [],
      "source": [
        "def part3_dim(t):\n",
        "    dt = T/n\n",
        "    increment = np.array([ np.exp(integrate_eta(t, dt*(i+1))) for i in range(n)])\n",
        "    multiplier = diags(increment, 0, shape=(n,n)).toarray()\n",
        "    dW = np.random.normal(0, np.sqrt(dt), size=(M,n)).T\n",
        "    dS = np.matmul (multiplier, dW)  #shape (n,M)\n",
        "    dS = np.vstack([np.zeros(M), dS]) #shape(n+1,M)\n",
        "    S = np.cumsum(dS, axis=0) #shape(n+1, M) \n",
        "    #note: axis=0 specfices: fix a column, acculate the sum by row numbers.\n",
        "    num = round(t/dt)\n",
        "    return sigma * np.mean(S[num,:])\n",
        "    #approximate t by the nearest grid point, \n",
        "    #and approximate the velocity-part3 at time t using the average velocity-part3 at the nearest grid point.\n",
        "def part3(t):\n",
        "    vec = np.zeros(d)\n",
        "    for i in range(d):\n",
        "        vec[i] = part3_dim(t)\n",
        "    return vec.reshape((1,d))"
      ]
    },
    {
      "cell_type": "markdown",
      "id": "scientific-terrace",
      "metadata": {
        "id": "scientific-terrace"
      },
      "source": [
        "Combine these 3 parts together for an explicit value:"
      ]
    },
    {
      "cell_type": "code",
      "execution_count": null,
      "id": "working-concrete",
      "metadata": {
        "id": "working-concrete"
      },
      "outputs": [],
      "source": [
        "def velocity(t):\n",
        "    return part1(t) + part2(t) + part3(t)\n",
        "velocity(T)"
      ]
    },
    {
      "cell_type": "markdown",
      "id": "wicked-married",
      "metadata": {
        "id": "wicked-married"
      },
      "source": [
        "# Simulate the terminal velocities $v_T$"
      ]
    },
    {
      "cell_type": "markdown",
      "id": "upset-ensemble",
      "metadata": {
        "id": "upset-ensemble"
      },
      "source": [
        "Note that in the function \"part3_dim(t)\", we take the velocity as the average of all the simulations, so that we can have an approximate value for the velocity at time $t$.\n",
        "\n",
        "\n",
        "Now, we would like to simulate the terminal velocities. And we follow the same idea from \"part3_dim(t)\". In other words, each Monte Carlo Simulation result is an average of $M$ simulations. On top of that, we do such Monte Carlo Simulation $M$ times. Therefore, actually, we have simulated $M \\times M$ times. \n",
        "\n",
        "We store all of the (Monte Carlo simulated) terminal velocities in the array \"terminal_velocity\" which is of shape $(M,d)$. \n",
        "\n",
        "Recall $M$ is the number of simulations used also in the function part3_dim(t), and $d$ is the dimension. Both $d$ and $M$ are specified at the start. "
      ]
    },
    {
      "cell_type": "code",
      "execution_count": null,
      "id": "imported-tours",
      "metadata": {
        "id": "imported-tours"
      },
      "outputs": [],
      "source": [
        "def simulate_terminal_velocity():\n",
        "    terminal_velocity = np.matmul(np.ones((M,1)), part1(T) + part2(T)) #shape (M,d)\n",
        "    dt = T/n\n",
        "    part3_terminal = np.zeros((M,d))\n",
        "    for i in range(M):\n",
        "        part3_terminal[i,:] = part3(T)\n",
        "    terminal_velocity += part3_terminal\n",
        "    return terminal_velocity"
      ]
    },
    {
      "cell_type": "markdown",
      "id": "prime-reader",
      "metadata": {
        "id": "prime-reader"
      },
      "source": [
        "## Plot the Monte Carlo simualted terminal velocity"
      ]
    },
    {
      "cell_type": "code",
      "execution_count": null,
      "id": "addressed-daniel",
      "metadata": {
        "id": "addressed-daniel"
      },
      "outputs": [],
      "source": [
        "#plot when d=2\n",
        "fig = plt.figure()\n",
        "data = simulate_terminal_velocity()\n",
        "cmap = plt.cm.jet\n",
        "cNorm  = colors.Normalize(vmin=np.min(data[:,1]), vmax=np.max(data[:,1]))\n",
        "scalarMap = cmx.ScalarMappable(norm=cNorm,cmap=cmap)\n",
        "for idx in range(M):\n",
        "    colorVal = scalarMap.to_rgba(data[idx,1])\n",
        "    dx,dy = data[idx,:]\n",
        "    plt.arrow(0, 0, dx, dy, head_width=0.01, color=colorVal)\n",
        "plt.xlabel(\"v1\")\n",
        "plt.ylabel(\"v2\")\n",
        "#save the file\n",
        "now = datetime.now()\n",
        "filename = f\"barmu0={barmu0}-v0={v0}-\"+now.strftime(\"%Y-%m-%d-%H:%M:%S\")+\".png\"\n",
        "plt.savefig(filename, dpi=300)"
      ]
    },
    {
      "cell_type": "code",
      "execution_count": null,
      "id": "hourly-navigation",
      "metadata": {
        "id": "hourly-navigation"
      },
      "outputs": [],
      "source": [
        "#plot when d=3\n",
        "data = simulate_terminal_velocity()\n",
        "#print(data)\n",
        "fig = plt.figure()\n",
        "ax = fig.add_subplot(111, projection='3d')\n",
        "#x,y,z boundary\n",
        "boundary = np.amax(data)   \n",
        "ax.set_xlim(- boundary,boundary)\n",
        "ax.set_ylim(- boundary,boundary)\n",
        "ax.set_zlim(- boundary,boundary)\n",
        "cmap = plt.cm.jet\n",
        "cNorm  = colors.Normalize(vmin=np.min(data[:,d-1]), vmax=np.max(data[:,d-1]))\n",
        "scalarMap = cmx.ScalarMappable(norm=cNorm,cmap=cmap)\n",
        "for idx in range(M):\n",
        "    colorVal = scalarMap.to_rgba(data[idx,d-1])\n",
        "    dx,dy,dz = data[idx,:]\n",
        "    ax.arrow3D(0,0,0,\n",
        "           dx,dy,dz,\n",
        "           mutation_scale=5,\n",
        "           arrowstyle=\"-|>\",\n",
        "           color = colorVal)\n",
        "ax.set_xlabel('v1')\n",
        "ax.set_ylabel('v2')\n",
        "ax.set_zlabel('v3')\n",
        "fig.tight_layout()\n",
        "#save the file\n",
        "now = datetime.now()\n",
        "filename = f\"barmu0={barmu0}-v0={v0}-\"+now.strftime(\"%Y-%m-%d-%H:%M:%S\")+\".png\"\n",
        "plt.savefig(filename, dpi=300)"
      ]
    },
    {
      "cell_type": "markdown",
      "id": "sticky-giving",
      "metadata": {
        "id": "sticky-giving"
      },
      "source": [
        "# Simulate the whole trajectery terminated at time  $T$"
      ]
    },
    {
      "cell_type": "markdown",
      "id": "amazing-merchandise",
      "metadata": {
        "id": "amazing-merchandise"
      },
      "source": [
        "### Plot for the whole trajectory terminated at time $T$ in 2D"
      ]
    },
    {
      "cell_type": "code",
      "execution_count": null,
      "id": "behind-circle",
      "metadata": {
        "id": "behind-circle"
      },
      "outputs": [],
      "source": [
        "#run when d=2\n",
        "#compute the determinstic velocity elements\n",
        "time = np.linspace(0,T,n+1)\n",
        "dt = T/n\n",
        "vec_part1 = [part1(t) for t in time]\n",
        "print('vec_part1')\n",
        "vec_part2 = [part2(t) for t in time]\n",
        "print('vec_part2')\n",
        "increments = np.zeros((n+1,n))\n",
        "for t in time:\n",
        "    idx = round(t/dt)\n",
        "    for i in range(n):\n",
        "        increments[idx,i] =  np.exp(integrate_eta(t, dt*(i+1))) \n",
        "print('increments')"
      ]
    },
    {
      "cell_type": "markdown",
      "id": "neutral-relative",
      "metadata": {
        "id": "neutral-relative"
      },
      "source": [
        "function \"simulate_trajectory2D\" produces one simulation.\n",
        "\n",
        "assuming the initial position $x_0 = 0$"
      ]
    },
    {
      "cell_type": "code",
      "execution_count": null,
      "id": "fewer-aurora",
      "metadata": {
        "id": "fewer-aurora"
      },
      "outputs": [],
      "source": [
        "#introduce stochastic factor independent in each simulation, and compute the trajectory\n",
        "def simulate_trajectory2D():\n",
        "    velocities = np.zeros((n+1,d))\n",
        "    dW1 = np.random.normal(0, np.sqrt(dt), size=(M,n)).T\n",
        "    dW2 = np.random.normal(0, np.sqrt(dt), size=(M,n)).T\n",
        "    for t in time:\n",
        "        idx = round(t/dt)\n",
        "        multiplier = diags(increments[idx,:], 0, shape=(n,n)).toarray()\n",
        "        dS1 = np.vstack([np.zeros(M), np.matmul (multiplier, dW1)])  #shape (n+1,M)\n",
        "        dS2 = np.vstack([np.zeros(M), np.matmul (multiplier, dW2)])\n",
        "        S1 = np.cumsum(dS1, axis=0)\n",
        "        S2 = np.cumsum(dS2, axis=0)\n",
        "        vec_part3 =np.array([sigma * np.mean(S1[idx,:]),  sigma * np.mean(S2[idx,:])]).reshape((1,d))\n",
        "        velocities[idx,:] = vec_part1[idx]+vec_part2[idx]+ vec_part3\n",
        "    trajectory = np.cumsum(dt * velocities,axis=0)\n",
        "    return trajectory"
      ]
    },
    {
      "cell_type": "code",
      "execution_count": null,
      "id": "chinese-posting",
      "metadata": {
        "id": "chinese-posting"
      },
      "outputs": [],
      "source": [
        "data = np.zeros((n+1,d,M))\n",
        "for i in range(M):\n",
        "    data[:,:,i] = simulate_trajectory2D()\n",
        "    print(i)"
      ]
    },
    {
      "cell_type": "code",
      "execution_count": null,
      "id": "conditional-globe",
      "metadata": {
        "id": "conditional-globe"
      },
      "outputs": [],
      "source": [
        "fig = plt.figure()\n",
        "x1 = data[:,0,:] #shape(n+1,M)\n",
        "x2 = data[:,1,:]\n",
        "plt.plot(x1,x2)\n",
        "plt.xlabel(\"x1\")\n",
        "plt.ylabel(\"x2\")\n",
        "now = datetime.now()\n",
        "filename = f\"2D-barmu0={barmu0}-v0={v0}-\"+now.strftime(\"%Y-%m-%d-%H:%M:%S\")+\".png\"\n",
        "plt.savefig(filename, dpi=300)"
      ]
    },
    {
      "cell_type": "code",
      "execution_count": null,
      "id": "presidential-correlation",
      "metadata": {
        "id": "presidential-correlation"
      },
      "outputs": [],
      "source": [
        "from numpy import savetxt\n",
        "now = datetime.now()\n",
        "filename1 = f\"2Dx1-barmu0={barmu0}-v0={v0}-\"+now.strftime(\"%Y-%m-%d-%H:%M:%S\")\n",
        "filename2 = f\"2Dx2-barmu0={barmu0}-v0={v0}-\"+now.strftime(\"%Y-%m-%d-%H:%M:%S\")\n",
        "savetxt(filename1, data[:,0,:], delimiter=',')\n",
        "savetxt(filename2, data[:,1,:], delimiter=',')"
      ]
    },
    {
      "cell_type": "markdown",
      "id": "controlled-power",
      "metadata": {
        "id": "controlled-power"
      },
      "source": [
        "### Plot for the whole trajectory terminated at time $T$ in 3D"
      ]
    },
    {
      "cell_type": "code",
      "execution_count": null,
      "id": "mobile-fundamental",
      "metadata": {
        "id": "mobile-fundamental"
      },
      "outputs": [],
      "source": [
        "#run when d=3\n",
        "#compute the determinstic velocity elements\n",
        "time = np.linspace(0,T,n+1)\n",
        "dt = T/n\n",
        "vec_part1 = [part1(t) for t in time]\n",
        "print('vec_part1')\n",
        "vec_part2 = [part2(t) for t in time]\n",
        "print('vec_part2')\n",
        "increments = np.zeros((n+1,n))\n",
        "for t in time:\n",
        "    idx = round(t/dt)\n",
        "    for i in range(n):\n",
        "        increments[idx,i] =  np.exp(integrate_eta(t, dt*(i+1))) \n",
        "print('increments')"
      ]
    },
    {
      "cell_type": "code",
      "execution_count": null,
      "id": "future-object",
      "metadata": {
        "id": "future-object"
      },
      "outputs": [],
      "source": [
        "#introduce stochastic factor independent in each simulation, and compute the trajectory\n",
        "def simulate_trajectory3D():\n",
        "    velocities = np.zeros((n+1,d))\n",
        "    dW1 = np.random.normal(0, np.sqrt(dt), size=(M,n)).T\n",
        "    dW2 = np.random.normal(0, np.sqrt(dt), size=(M,n)).T\n",
        "    dW3 = np.random.normal(0, np.sqrt(dt), size=(M,n)).T\n",
        "    for t in time:\n",
        "        idx = round(t/dt)\n",
        "        multiplier = diags(increments[idx,:], 0, shape=(n,n)).toarray()\n",
        "        dS1 = np.vstack([np.zeros(M), np.matmul (multiplier, dW1)])  #shape (n+1,M)\n",
        "        dS2 = np.vstack([np.zeros(M), np.matmul (multiplier, dW2)])\n",
        "        dS3 = np.vstack([np.zeros(M), np.matmul (multiplier, dW3)])\n",
        "        S1 = np.cumsum(dS1, axis=0)\n",
        "        S2 = np.cumsum(dS2, axis=0)\n",
        "        S3 = np.cumsum(dS3, axis=0)\n",
        "        vec_part3 =np.array([sigma * np.mean(S1[idx,:]),  \n",
        "                             sigma * np.mean(S2[idx,:]), \n",
        "                             sigma * np.mean(S3[idx,:]) ]).reshape((1,d))\n",
        "        velocities[idx,:] = vec_part1[idx]+vec_part2[idx]+ vec_part3\n",
        "    trajectory = np.cumsum(dt * velocities,axis=0)\n",
        "    return trajectory"
      ]
    },
    {
      "cell_type": "code",
      "execution_count": null,
      "id": "usual-motion",
      "metadata": {
        "id": "usual-motion"
      },
      "outputs": [],
      "source": [
        "data = np.zeros((n+1,d,M))\n",
        "for i in range(M):\n",
        "    data[:,:,i] = simulate_trajectory3D()\n",
        "    print(i)"
      ]
    },
    {
      "cell_type": "code",
      "execution_count": null,
      "id": "fundamental-denmark",
      "metadata": {
        "id": "fundamental-denmark"
      },
      "outputs": [],
      "source": [
        "x1 = data[:,0,:] #shape(n+1,M)\n",
        "x2 = data[:,1,:]\n",
        "x3 = data[:,2,:]\n",
        "fig = plt.figure()\n",
        "ax = fig.add_subplot(111, projection='3d')\n",
        "for m in range(M):\n",
        "    ax.plot3D(x1[:,m], x2[:,m], x3[:,m])\n",
        "ax.set_xlabel('x1')\n",
        "ax.set_ylabel('x2')\n",
        "ax.set_zlabel('x3')\n",
        "now = datetime.now()\n",
        "filename = f\"3D-barmu0={barmu0}-v0={v0}-\"+now.strftime(\"%Y-%m-%d-%H:%M:%S\")+\".png\"\n",
        "plt.savefig(filename, dpi=300)"
      ]
    },
    {
      "cell_type": "code",
      "execution_count": null,
      "id": "novel-annex",
      "metadata": {
        "id": "novel-annex"
      },
      "outputs": [],
      "source": [
        "from numpy import savetxt\n",
        "now = datetime.now()\n",
        "filename1 = f\"3Dx1-barmu0={barmu0}-v0={v0}-\"+now.strftime(\"%Y-%m-%d-%H:%M:%S\")\n",
        "filename2 = f\"3Dx2-barmu0={barmu0}-v0={v0}-\"+now.strftime(\"%Y-%m-%d-%H:%M:%S\")\n",
        "filename3 = f\"3Dx3-barmu0={barmu0}-v0={v0}-\"+now.strftime(\"%Y-%m-%d-%H:%M:%S\")\n",
        "savetxt(filename1, data[:,0,:], delimiter=',')\n",
        "savetxt(filename2, data[:,1,:], delimiter=',')\n",
        "savetxt(filename3, data[:,1,:], delimiter=',')"
      ]
    },
    {
      "cell_type": "markdown",
      "id": "composed-monday",
      "metadata": {
        "id": "composed-monday"
      },
      "source": [
        "# Additional codes: toy examples of plotting Brownian motions in 2D and 3D "
      ]
    },
    {
      "cell_type": "markdown",
      "id": "quarterly-harrison",
      "metadata": {
        "id": "quarterly-harrison"
      },
      "source": [
        "Toy example 1: plot a 1 dimensional Brownian motion with Monte Carlo Simulation"
      ]
    },
    {
      "cell_type": "code",
      "execution_count": null,
      "id": "early-identifier",
      "metadata": {
        "id": "early-identifier"
      },
      "outputs": [],
      "source": [
        "#construct \n",
        "dt = T/n\n",
        "dW =  np.random.normal(0, np.sqrt(dt), size=(M,n)).T\n",
        "dW = np.vstack([np.zeros(M), dW])\n",
        "W = dW.cumsum(axis =0)\n",
        "#plot\n",
        "time = np.linspace(0,T,n+1)\n",
        "tt = np.full(shape=(M,n+1), fill_value = time).T\n",
        "plt.plot(tt, W)\n",
        "plt.xlabel(\"Time\")\n",
        "plt.ylabel(\"Value\")\n",
        "plt.title(f\"Realizations of a 1D Brownian Motion \\n $W_0 = 0, \\enspace T = {T}$ \\n Number of simulations: $M ={M}$\")\n",
        "plt.show()"
      ]
    },
    {
      "cell_type": "markdown",
      "id": "mechanical-arrival",
      "metadata": {
        "id": "mechanical-arrival"
      },
      "source": [
        "Toy example 2: Plot a 3-dimensional Brownian motion"
      ]
    },
    {
      "cell_type": "code",
      "execution_count": null,
      "id": "latin-telescope",
      "metadata": {
        "id": "latin-telescope"
      },
      "outputs": [],
      "source": [
        "T3 = 10\n",
        "d3 =3\n",
        "dt3 = T3 / d3\n",
        "n3 =1000\n",
        "dW = np.random.normal(0, np.sqrt(dt3), size=(n3,d3))\n",
        "W = np.cumsum(dW, axis=0)\n",
        "ax = plt.axes(projection='3d')\n",
        "ax.plot3D(W[:,0], W[:,1], W[:,2], 'gray')"
      ]
    },
    {
      "cell_type": "markdown",
      "id": "equipped-poultry",
      "metadata": {
        "id": "equipped-poultry"
      },
      "source": [
        "Toy example 3: Generate and plot a $d$-dimensional Brownian motion, d=1,2,3"
      ]
    },
    {
      "cell_type": "code",
      "execution_count": null,
      "id": "overhead-swaziland",
      "metadata": {
        "id": "overhead-swaziland"
      },
      "outputs": [],
      "source": [
        "#generate Brownian motion\n",
        "def BM1D(T,n,M): \n",
        "    dt = T/n\n",
        "    dW =  np.random.normal(0, np.sqrt(dt), size=(M,n)).T\n",
        "    dW = np.vstack([np.zeros(M), dW])\n",
        "    W = dW.cumsum(axis =0)\n",
        "    return W\n",
        "\n",
        "def BMfull(T,n, M,d):\n",
        "    W = np.zeros((d,n+1,M))\n",
        "    for i in range(d):\n",
        "        W[i,:,:] = BM1D(T,n,M)\n",
        "    #W[i,:,:] the (i+1)-th dimension of the generated Brownian motion, having the shape (n+1,M)\n",
        "    #W[:,:,m] the (m+1)-th copy of the Brownian motion, having the shape (d, n+1)\n",
        "    return W"
      ]
    },
    {
      "cell_type": "code",
      "execution_count": null,
      "id": "charming-abortion",
      "metadata": {
        "id": "charming-abortion"
      },
      "outputs": [],
      "source": [
        "#plot Brownian motion\n",
        "def plotBM(T,n,M,d):\n",
        "    W = BMfull(T,n, M,d)\n",
        "    if d==1:\n",
        "        time = np.linspace(0,T,n+1)\n",
        "        tt = np.full(shape=(M,n+1), fill_value = time).T #shape(n+1,M)\n",
        "        W = W[0,:,:] #shape(n+1,M)\n",
        "        plt.plot(tt, W)\n",
        "        plt.xlabel(\"Time\")\n",
        "        plt.ylabel(\"Value\")\n",
        "        plt.title(f\"Realizations of a {d}D Brownian Motion \\n $W_0 = 0, \\enspace T = {T}$ \\n Number of simulations: $M ={M}$\")\n",
        "        plt.show()\n",
        "    elif d==2:\n",
        "        xBM = W[0,:,:]\n",
        "        yBM = W[1,:,:]\n",
        "        plt.plot(xBM,yBM)\n",
        "        plt.xlabel(\"x-axis\")\n",
        "        plt.ylabel(\"y-axis\")\n",
        "        plt.title(f\"Realizations of a {d}D Brownian Motion \\n $W_0 = 0, \\enspace T = {T}$ \\n Number of simulations: $M ={M}$\")\n",
        "        plt.show()\n",
        "    elif d==3: \n",
        "        xBM = W[0,:,:]\n",
        "        yBM = W[1,:,:]\n",
        "        zBM = W[2,:,:]\n",
        "        ax = plt.axes(projection='3d')\n",
        "        for m in range(M):\n",
        "            ax.plot3D(xBM[:,m], yBM[:,m], zBM[:,m])\n",
        "        ax.set_xlabel('x-axis')\n",
        "        ax.set_ylabel('y-axis')\n",
        "        ax.set_zlabel('z-axis')\n",
        "        ax.set_title(f\"Realizations of a {d}D Brownian Motion \\n $W_0 = 0, \\enspace T = {T}$ \\n Number of simulations: $M ={M}$\")      "
      ]
    }
  ],
  "metadata": {
    "kernelspec": {
      "display_name": "Python 3",
      "language": "python",
      "name": "python3"
    },
    "language_info": {
      "codemirror_mode": {
        "name": "ipython",
        "version": 3
      },
      "file_extension": ".py",
      "mimetype": "text/x-python",
      "name": "python",
      "nbconvert_exporter": "python",
      "pygments_lexer": "ipython3",
      "version": "3.8.5"
    },
    "colab": {
      "provenance": [],
      "include_colab_link": true
    }
  },
  "nbformat": 4,
  "nbformat_minor": 5
}