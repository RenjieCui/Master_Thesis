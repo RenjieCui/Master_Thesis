{
  "cells": [
    {
      "cell_type": "markdown",
      "metadata": {
        "id": "view-in-github",
        "colab_type": "text"
      },
      "source": [
        "<a href=\"https://colab.research.google.com/github/RenjieCui/Master_Thesis/blob/main/Picard_LQ_Flocking.ipynb\" target=\"_parent\"><img src=\"https://colab.research.google.com/assets/colab-badge.svg\" alt=\"Open In Colab\"/></a>"
      ]
    },
    {
      "cell_type": "markdown",
      "id": "loose-headset",
      "metadata": {
        "id": "loose-headset"
      },
      "source": [
        "# Picard fixed point iterations"
      ]
    },
    {
      "cell_type": "code",
      "execution_count": null,
      "id": "covered-praise",
      "metadata": {
        "id": "covered-praise"
      },
      "outputs": [],
      "source": [
        "import numpy as np\n",
        "from scipy.integrate import odeint\n",
        "from scipy.interpolate import interp1d\n",
        "import matplotlib.pyplot as plt\n",
        "import scipy.sparse as sparse\n",
        "import scipy.sparse.linalg\n",
        "from datetime import datetime"
      ]
    },
    {
      "cell_type": "markdown",
      "id": "acquired-vaccine",
      "metadata": {
        "id": "acquired-vaccine"
      },
      "source": [
        "**Setup:** In this MFC example, we take:\n",
        "  - drift: $$b(x, m, a) \t= Ax + \\bar{A} m + Ba$$\n",
        "  - running cost:\n",
        "    $$f(x, m, a)\t= \\frac{1}{2} \\left[ Q x^2 + \\bar{Q} \\left(x - S m \\right)^2 + R a^2 \\right]$$\n",
        "  - terminal cost:\n",
        "    $$g(x, m) \t= \\frac{1}{2} \\left[ Q_T x^2 + \\bar{Q}_T \\left(x - S_T m \\right)^2 \\right]$$"
      ]
    },
    {
      "cell_type": "code",
      "execution_count": null,
      "id": "returning-malpractice",
      "metadata": {
        "id": "returning-malpractice"
      },
      "outputs": [],
      "source": [
        "# ================================================== #\n",
        "# PARAMETERS\n",
        "# ================================================== #\n",
        "# Running cost\n",
        "Q =     0\n",
        "R =     1.0 \n",
        "Rinv =  1.0/R \n",
        "S =     1.0\n",
        "kappa = 1.0\n",
        "Qbar =  kappa**2\n",
        "# Terminal cost\n",
        "QT =    0\n",
        "ST =    0\n",
        "QbarT = 0\n",
        "# Dynamics\n",
        "A =     0\n",
        "Abar =  0#\n",
        "B =     1.0\n",
        "sigma = 1.0\n",
        "a =     0.5*sigma**2\n",
        "\n",
        "xbar0 = 1.0 # initial mean\n",
        "sig0 = 0.2 # initial standard deviation\n",
        "x2bar0 = sig0**2 + xbar0**2 # second moment (assuming Gaussian)\n",
        "\n",
        "# Time\n",
        "T =     10.0\n",
        "Nt =    10000 # number of points\n",
        "Dt =    T/(Nt-1)\n",
        "t_grid = np.linspace(0,T,Nt,endpoint=True) # grid on [0,T]\n",
        "# Algorithm parameters\n",
        "epsilon = 1.e-10"
      ]
    },
    {
      "cell_type": "code",
      "execution_count": null,
      "id": "operational-german",
      "metadata": {
        "id": "operational-german"
      },
      "outputs": [],
      "source": [
        "# ================================================== #\n",
        "# USEFUL FUNCTIONS\n",
        "# ================================================== #\n",
        "def array_from_fct(f):\n",
        "  np.array([f(t) for t in t_grid])\n",
        "\n",
        "def fct_from_array(arr):\n",
        "  return lambda t : arr[(np.abs(t_grid - t)).argmin()]"
      ]
    },
    {
      "cell_type": "code",
      "execution_count": null,
      "id": "arranged-pantyhose",
      "metadata": {
        "id": "arranged-pantyhose"
      },
      "outputs": [],
      "source": [
        "# ODE FOR 2nd ORDER COEFFICIENT P\n",
        "def rate_ODE_P(P_t, t):\n",
        "  dP_dt = -( (P_t*A+A*P_t) - P_t**2 * B**2 * Rinv + Q + Qbar )\n",
        "  return dP_dt\n",
        "\n",
        "def rate_ODE_P_reverse(P_s, t): \n",
        "  # here s plays the role of T-t: need to apply functions control and X at point t = (T-s)\n",
        "  s = T-t\n",
        "  dP_dt = rate_ODE_P(P_s, t)\n",
        "  return -dP_dt\n",
        "\n",
        "def get_P_vec():\n",
        "  PT = QT + QbarT\n",
        "  # reverse time for solution, treat YT as initial condition, use -rate*dt\n",
        "  s_grid = np.flip(T-t_grid) # interpreted as reversed time\n",
        "  # ues ODE solver forward in time\n",
        "  PT0 = odeint(rate_ODE_P_reverse, PT, s_grid)\n",
        "  P0T = np.flip(PT0, axis=0) # return P from 0 to T\n",
        "  return np.reshape(P0T, Nt)"
      ]
    },
    {
      "cell_type": "code",
      "execution_count": null,
      "id": "charged-montgomery",
      "metadata": {
        "id": "charged-montgomery"
      },
      "outputs": [],
      "source": [
        "# ================================================== #\n",
        "# FIXED POINT ITERATIONS\n",
        "# ================================================== #\n",
        "# Ansatz u(x,t) = P(t)*x^2 + r(t)*x + s(t)\n",
        "# dudx(x,t) = 2*P(t)*x + r(t) --------> Y(t)\n",
        "\n",
        "\n",
        "# ODE FOR MEAN z\n",
        "def rate_ODE_z(z_t, t, P_fct, r_fct):\n",
        "  dz_dt = (A + Abar - B**2 * Rinv * P_fct(t))*z_t - B**2 * Rinv * r_fct(t)\n",
        "  return dz_dt\n",
        "\n",
        "def get_z_vec(P_fct, r_fct):\n",
        "  z0 = xbar0\n",
        "  z0T = odeint(rate_ODE_z, z0, t_grid, args=(P_fct, r_fct))\n",
        "  return np.reshape(z0T, Nt)\n",
        "\n",
        "\n",
        "# ODE FOR 1st ORDER COEFFICIENT r\n",
        "def rate_ODE_r(r_t, t, z_fct, P_fct):\n",
        "  #dr_dt = - ( (A+Abar - P_fct(t)*B**2*Rinv)*r_t + (2*P_fct(t)*Abar - 2*Qbar*S + Qbar*S**2)*z_fct(t) )\n",
        "    dr_dt = - ((A - B**2 * Rinv * P_fct(t)) * r_t + (P_fct(t)*Abar - Qbar*S)* z_fct(t) )\n",
        "    return dr_dt\n",
        "\n",
        "def rate_ODE_r_reverse(r_s, t, z_fct, P_fct): \n",
        "  # here s plays the role of T-t: need to apply functions control and X at point t = (T-s)\n",
        "  P_fct_rev = lambda s : P_fct(T-t)\n",
        "  z_fct_rev = lambda s : z_fct(T-t)\n",
        "  s = T-t\n",
        "  dr_dt = rate_ODE_r(r_s, s, z_fct_rev, P_fct_rev)\n",
        "  return -dr_dt\n",
        "\n",
        "def get_r_vec(z_fct, P_fct):\n",
        "  rT = (- 2*QbarT*ST + QbarT*ST**2 )*z_fct(T)\n",
        "  # reverse time for solution, treat YT as initial condition, use -rate*dt\n",
        "  s_grid = np.flip(T-t_grid) # interpreted as reversed time\n",
        "  # ues ODE solver forward in time\n",
        "  rT0 = odeint(rate_ODE_r_reverse, rT, s_grid, args=(z_fct, P_fct))\n",
        "  r0T = np.flip(rT0, axis=0) # return r from 0 to T\n",
        "  return np.reshape(r0T, Nt)"
      ]
    },
    {
      "cell_type": "code",
      "execution_count": null,
      "id": "split-phrase",
      "metadata": {
        "id": "split-phrase"
      },
      "outputs": [],
      "source": [
        "# 0th ORDER COEFFICIENT s\n",
        "def get_s_vec(z_fct, P_fct, r_fct):\n",
        "    \n",
        "    arrt = np.zeros(Nt)\n",
        "    s = np.zeros(Nt)\n",
        "    arrt[Nt-1] = 0.5 * z_fct(Dt*Nt)**2 * ST**2 * QbarT\n",
        "    s[Nt-1] = arrt[Nt-1]\n",
        "    #for it in range(Nt-1, -1, -1):\n",
        "        #t = Dt*it\n",
        "        #arrt[it] = a*P_fct(t) - 0.5*r_fct(t)**2*B**2*Rinv + r_fct(t)*Abar*z_fct(t) \\\n",
        "        #            + 0.5*z_fct(t)*S**2 * Qbar * z_fct(t)\n",
        "        #arrt[it] *= Dt\n",
        "        #s = np.cumsum(arrt[it:])\n",
        "    for it in range(Nt-2, -1, -1):\n",
        "        t = Dt*it\n",
        "        arrt[it] = a*P_fct(t) - 0.5*r_fct(t)**2*B**2*Rinv + r_fct(t)*Abar*z_fct(t) \\\n",
        "                    + 0.5*z_fct(t)*S**2 * Qbar * z_fct(t)\n",
        "        arrt[it] *= Dt\n",
        "        s[it] = arrt[it] + s[it+1]\n",
        "    return s"
      ]
    },
    {
      "cell_type": "code",
      "execution_count": null,
      "id": "greenhouse-slovakia",
      "metadata": {
        "id": "greenhouse-slovakia"
      },
      "outputs": [],
      "source": [
        "def solver_Picard(tol=1.e-8, damping_fct=lambda iiter : iiter/(iiter+1), iter_max=500):\n",
        "  P = get_P_vec()\n",
        "  z_old = np.zeros(Nt)\n",
        "  r_old = np.zeros(Nt)\n",
        "  diff_z = []\n",
        "  diff_r = []\n",
        "  printstep = 10\n",
        "  i = 0\n",
        "  P_fct = fct_from_array(P)\n",
        "  while(True):\n",
        "    z_fct = fct_from_array(z_old)\n",
        "    r_new = get_r_vec(z_fct, P_fct)\n",
        "    r_fct = fct_from_array(r_new)\n",
        "    z_new = get_z_vec(P_fct, r_fct)\n",
        "    diff_z.append(np.linalg.norm(z_old-z_new)*np.sqrt(Dt))\n",
        "    diff_r.append(np.linalg.norm(r_old-r_new)*np.sqrt(Dt))\n",
        "    if( i>=iter_max or (diff_z[-1] < tol and diff_r[-1] < tol) ):\n",
        "      break\n",
        "    if (i % printstep == 0):\n",
        "      print(\"\\nPicard : iter = \", i)\n",
        "      fig, axes = plt.subplots(nrows=1, ncols=2, figsize=(12, 3))\n",
        "      iter_grid = np.linspace(1, len(diff_z), len(diff_z))\n",
        "      print(\"diff_z = {}, \\tdiff_r = {}\".format(diff_z[-1], diff_r[-1]))\n",
        "      axes[0].plot(iter_grid, diff_z, label=\"diff z\")\n",
        "      axes[0].plot(iter_grid, diff_r, label=\"diff r\")\n",
        "      axes[0].semilogy()\n",
        "      axes[0].legend()\n",
        "      axes[0].set_xlabel(\"iteration\")\n",
        "      axes[1].plot(t_grid, z_new, label=\"$z$\")\n",
        "      axes[1].plot(t_grid, r_new, label=\"$r$\")\n",
        "      axes[1].legend()\n",
        "      axes[1].set_xlabel(\"time\")\n",
        "      fig.tight_layout()\n",
        "      plt.show()\n",
        "    r_old = r_new.copy()\n",
        "    z_old = damping_fct(i)*z_old.copy() + (1-damping_fct(i))*z_new.copy()\n",
        "    i += 1\n",
        "    z = z_new\n",
        "    r = r_new\n",
        "  s = get_s_vec(fct_from_array(z), fct_from_array(P), fct_from_array(r))\n",
        "  return z, P, r, s, diff_z, diff_r\n"
      ]
    },
    {
      "cell_type": "code",
      "execution_count": null,
      "id": "governing-ottawa",
      "metadata": {
        "id": "governing-ottawa"
      },
      "outputs": [],
      "source": [
        "z, P, r, s, diff_z, diff_r = solver_Picard(tol=epsilon, damping_fct = lambda i : i/(i+1), iter_max=500) #i: i/(i+1)"
      ]
    },
    {
      "cell_type": "code",
      "execution_count": null,
      "id": "municipal-sitting",
      "metadata": {
        "id": "municipal-sitting"
      },
      "outputs": [],
      "source": [
        "# Plot solution of all the ODEs\n",
        "fig = plt.figure()\n",
        "plt.plot(t_grid, z, label=\"$z$\")\n",
        "plt.plot(t_grid, P, label=\"$P$\")\n",
        "plt.plot(t_grid, r, label=\"$r$\")\n",
        "plt.plot(t_grid, s, label=\"$s$\")\n",
        "plt.legend()\n",
        "plt.xlabel(\"time\")\n",
        "now = datetime.now()\n",
        "filename = f\"Picard_damping-ODE-barx0={xbar0}-sig0={sig0}\"+now.strftime(\"%Y-%m-%d-%H:%M:%S\")+\".png\"\n",
        "plt.savefig(filename, dpi=300)\n",
        "plt.show()"
      ]
    },
    {
      "cell_type": "code",
      "execution_count": null,
      "id": "smart-study",
      "metadata": {
        "id": "smart-study"
      },
      "outputs": [],
      "source": [
        "# Plot convergence metric\n",
        "fig = plt.figure()\n",
        "iter_grid = np.linspace(1, len(diff_z), len(diff_z))\n",
        "plt.plot(iter_grid, diff_z, label=\"diff z\")\n",
        "plt.plot(iter_grid, diff_r, label=\"diff r\")\n",
        "plt.semilogy()\n",
        "plt.legend()\n",
        "plt.xlabel(\"iteration\")\n",
        "now = datetime.now()\n",
        "filename = f\"Picard_damping-difference-barx0={xbar0}-sig0={sig0}\"+now.strftime(\"%Y-%m-%d-%H:%M:%S\")+\".png\"\n",
        "plt.savefig(filename, dpi=300)\n",
        "plt.show()"
      ]
    },
    {
      "cell_type": "code",
      "execution_count": null,
      "id": "stuck-northeast",
      "metadata": {
        "id": "stuck-northeast"
      },
      "outputs": [],
      "source": [
        "def get_cost(z, P, r, s):\n",
        "  u0m0 = 0.5*P[0]*x2bar0 + r[0]*xbar0 + s[0]\n",
        "  # correction terms for MFC: u is not the value function!\n",
        "  corr_T = (1-ST)*QbarT*ST*z[Nt-1]**2\n",
        "  corr_int = - np.sum( (P*z + r)*Abar*z - (1-S)*Qbar*S*z**2 )*Dt\n",
        "  return u0m0 + corr_T + corr_int\n",
        "\n",
        "# Evaluation of the total cost\n",
        "total_cost =  get_cost(z, P, r, s)\n",
        "print(\"total cost = \", total_cost)\n",
        "print(\"P[0] = {}, \\t r[0] = {}, \\t s[0] = {}\".format(P[0], r[0], s[0]))"
      ]
    },
    {
      "cell_type": "code",
      "execution_count": null,
      "id": "miniature-profile",
      "metadata": {
        "id": "miniature-profile"
      },
      "outputs": [],
      "source": [
        "from numpy import asarray\n",
        "from numpy import savetxt\n",
        "\n",
        "data = asarray([get_cost(z, P, r, s), P[0], r[0], s[0]])\n",
        "filename = f\"Picard_damping-difference-barx0={xbar0}-sig0={sig0}.csv\"\n",
        "savetxt(filename, data,delimiter=',')"
      ]
    }
  ],
  "metadata": {
    "kernelspec": {
      "display_name": "Python 3",
      "language": "python",
      "name": "python3"
    },
    "language_info": {
      "codemirror_mode": {
        "name": "ipython",
        "version": 3
      },
      "file_extension": ".py",
      "mimetype": "text/x-python",
      "name": "python",
      "nbconvert_exporter": "python",
      "pygments_lexer": "ipython3",
      "version": "3.8.5"
    },
    "colab": {
      "provenance": [],
      "include_colab_link": true
    }
  },
  "nbformat": 4,
  "nbformat_minor": 5
}